{
 "cells": [
  {
   "cell_type": "markdown",
   "metadata": {},
   "source": [
    "# Manipulation de tables et fichiers csv"
   ]
  },
  {
   "cell_type": "markdown",
   "metadata": {},
   "source": [
    "Ex 1 :\n",
    "\n",
    "On pourrait imaginer que cette table d'inventaire présente, en premier leu, une colonne \" ARTICLE \" permettant d'identifier de quel article on parle et de regrouper dans cette table de données d'autres informations, en l'occurence les caractéristiques de chaque article (la quantité en stock, être disponible chez le fournisseur ou non (variable discrète prenant 2 valeurs : 1 ou 0), être en vente libre ou non), qui pourront former les autres colonnes de la table d'inventaire.\n",
    "De plus, il faudrait que cette table soit la liste des dictionnaires associant à chaque attribut (clé) le champ correspondant (valeur)."
   ]
  },
  {
   "cell_type": "markdown",
   "metadata": {},
   "source": [
    "\n",
    "Ex 2 :"
   ]
  },
  {
   "cell_type": "code",
   "execution_count": 1,
   "metadata": {},
   "outputs": [],
   "source": [
    "def stats_csv(fichier):\n",
    "    nbr_lignes = 0\n",
    "    for row in fichier:\n",
    "        nbr_lignes += 1\n",
    "        nbr_colonnes = len(row)\n",
    "    print(nbr_lignes)\n",
    "    print(nbr_colonnes)"
   ]
  },
  {
   "cell_type": "code",
   "execution_count": 2,
   "metadata": {},
   "outputs": [],
   "source": [
    "import csv\n",
    "import codecs\n",
    "\n",
    "csvfile = codecs.open(\"pays_monde (2).csv\", encoding = \"utf-8\")\n",
    "fichier_pays = csv.reader(csvfile, delimiter = \",\")"
   ]
  },
  {
   "cell_type": "code",
   "execution_count": 3,
   "metadata": {},
   "outputs": [
    {
     "name": "stdout",
     "output_type": "stream",
     "text": [
      "216\n",
      "4\n"
     ]
    }
   ],
   "source": [
    "stats_csv(fichier_pays)"
   ]
  },
  {
   "cell_type": "markdown",
   "metadata": {},
   "source": [
    "Ex 3 :\n"
   ]
  },
  {
   "cell_type": "code",
   "execution_count": 4,
   "metadata": {},
   "outputs": [],
   "source": [
    "# Il est nécessaire au préalable d'extraire une table de données du fichier csv, cad une liste de dictionnaires associant chaque attribut (clé) au champ correspondant de chaque enregistrement\n",
    "fichier_pays = list(csv.DictReader(csvfile))\n",
    "csvfile.close()"
   ]
  },
  {
   "cell_type": "code",
   "execution_count": 10,
   "metadata": {},
   "outputs": [],
   "source": [
    "# Maintenant, on peut exploiter ces données. Il s'agit là de rechercher une information ; le(s) pays le(s) plus peuplé(s) qu'un pays donné\n",
    "def population_plus_grande(pays):\n",
    "    for dic in fichier_pays:\n",
    "        if pays in i.values():\n",
    "            population_du_pays = int(i[\"POPULATION\"])\n",
    "            print([p[\"PAYS\"] for p in fichier_pays if int(p[\"POPULATION\"])> population_du_pays])"
   ]
  },
  {
   "cell_type": "code",
   "execution_count": 13,
   "metadata": {},
   "outputs": [],
   "source": [
    "population_plus_grande(\"USA\")"
   ]
  },
  {
   "cell_type": "markdown",
   "metadata": {},
   "source": [
    "Ex 4 :"
   ]
  },
  {
   "cell_type": "code",
   "execution_count": 12,
   "metadata": {},
   "outputs": [
    {
     "data": {
      "text/plain": [
       "0"
      ]
     },
     "execution_count": 12,
     "metadata": {},
     "output_type": "execute_result"
    }
   ],
   "source": [
    "population_mondiale = 0\n",
    "for row in fichier_pays :\n",
    "    population_mondiale+=int(row[\"POPULATION\"])\n",
    "population_mondiale"
   ]
  },
  {
   "cell_type": "code",
   "execution_count": 8,
   "metadata": {},
   "outputs": [],
   "source": [
    "def population_continent(continent):\n",
    "    population_continent=0\n",
    "    for row in fichier_pays:\n",
    "        if row[\"CONTINENT\"]==continent:\n",
    "            population_continent += int(row[\"POPULATION\"])   \n",
    "    print(continent,population_continent)\n",
    "    "
   ]
  },
  {
   "cell_type": "code",
   "execution_count": 9,
   "metadata": {},
   "outputs": [
    {
     "name": "stdout",
     "output_type": "stream",
     "text": [
      "Océanie 0\n"
     ]
    }
   ],
   "source": [
    "population_continent(\"Océanie\")"
   ]
  },
  {
   "cell_type": "code",
   "execution_count": null,
   "metadata": {},
   "outputs": [],
   "source": [
    "for pays_plus_peuple(continent):\n",
    "    for row in fichier_pays:\n",
    "        if row[\"CONTINENT\"]==continent:\n",
    "            while\n",
    "        "
   ]
  }
 ],
 "metadata": {
  "kernelspec": {
   "display_name": "Python 3",
   "language": "python",
   "name": "python3"
  },
  "language_info": {
   "codemirror_mode": {
    "name": "ipython",
    "version": 3
   },
   "file_extension": ".py",
   "mimetype": "text/x-python",
   "name": "python",
   "nbconvert_exporter": "python",
   "pygments_lexer": "ipython3",
   "version": "3.8.5"
  }
 },
 "nbformat": 4,
 "nbformat_minor": 4
}
